{
 "cells": [
  {
   "cell_type": "code",
   "execution_count": 1,
   "id": "6480347d",
   "metadata": {},
   "outputs": [
    {
     "name": "stderr",
     "output_type": "stream",
     "text": [
      "/data/ljr/anaconda3/envs/qwen/lib/python3.10/site-packages/tqdm/auto.py:21: TqdmWarning: IProgress not found. Please update jupyter and ipywidgets. See https://ipywidgets.readthedocs.io/en/stable/user_install.html\n",
      "  from .autonotebook import tqdm as notebook_tqdm\n"
     ]
    },
    {
     "name": "stdout",
     "output_type": "stream",
     "text": [
      "Training in normal (train) mode...\n",
      "Epoch [0/300], Loss: 1.7658, Mode: Train\n",
      "Epoch [100/300], Loss: 0.6877, Mode: Train\n",
      "Epoch [200/300], Loss: 0.3594, Mode: Train\n",
      "\n",
      "Training in eval mode with weight updates...\n",
      "Epoch [0/300], Loss: 1.7658, Mode: Eval\n",
      "Epoch [100/300], Loss: 0.6877, Mode: Eval\n",
      "Epoch [200/300], Loss: 0.3594, Mode: Eval\n"
     ]
    }
   ],
   "source": [
    "import torch\n",
    "import torch.nn as nn\n",
    "import torch.optim as optim\n",
    "import numpy as np\n",
    "\n",
    "# Define a simple 2-layer fully connected network\n",
    "class SimpleNet(nn.Module):\n",
    "    def __init__(self, bn=False):\n",
    "        super(SimpleNet, self).__init__()\n",
    "        self.fc1 = nn.Linear(1, 10)\n",
    "        self.bn = nn.BatchNorm1d(10) if bn else nn.Identity()\n",
    "        self.fc2 = nn.Linear(10, 1)\n",
    "\n",
    "    def forward(self, x):\n",
    "        x = torch.relu(self.fc1(x))\n",
    "        x = self.fc2(self.bn(x))\n",
    "        return x\n",
    "\n",
    "# Generate random data that roughly follows a quadratic function\n",
    "np.random.seed(0)\n",
    "x = np.random.rand(100, 1).astype(np.float32) * 4 - 2  # Random x values between -2 and 2\n",
    "y = x**2 + np.random.randn(100, 1).astype(np.float32) * 0.1  # Quadratic function with noise\n",
    "\n",
    "x_tensor = torch.from_numpy(x)\n",
    "y_tensor = torch.from_numpy(y)\n",
    "\n",
    "# Redefining the training function to allow weight updates in eval mode\n",
    "def train_with_eval_mode_update(model, x_tensor, y_tensor, optimizer, criterion, epochs=1000, eval_mode=False):\n",
    "    for epoch in range(epochs):\n",
    "        if eval_mode:\n",
    "            model.eval()\n",
    "        else:\n",
    "            model.train()\n",
    "\n",
    "        # Forward pass\n",
    "        outputs = model(x_tensor)\n",
    "        loss = criterion(outputs, y_tensor)\n",
    "\n",
    "        # Backward and optimize\n",
    "        optimizer.zero_grad()\n",
    "        loss.backward()\n",
    "        optimizer.step()  # Updating weights in both modes\n",
    "\n",
    "        if epoch % 100 == 0:\n",
    "            print(f'Epoch [{epoch}/{epochs}], Loss: {loss.item():.4f}, Mode: {\"Eval\" if eval_mode else \"Train\"}')\n",
    "\n",
    "# initialize model, criterion, and optimizer to ensure same starting conditions\n",
    "model_train = SimpleNet(bn=False)\n",
    "model_eval = SimpleNet(bn=False)\n",
    "\n",
    "# Ensuring the initial weights are the same for both models\n",
    "model_eval.load_state_dict(model_train.state_dict())\n",
    "\n",
    "criterion = nn.MSELoss()\n",
    "optimizer_train = optim.SGD(model_train.parameters(), lr=0.01)\n",
    "optimizer_eval = optim.SGD(model_eval.parameters(), lr=0.01)\n",
    "\n",
    "# Train the model in training mode\n",
    "print(\"Training in normal (train) mode...\")\n",
    "train_with_eval_mode_update(model_train, x_tensor, y_tensor, optimizer_train, criterion, epochs=300)\n",
    "\n",
    "# Train the model in evaluation mode with weight updates\n",
    "print(\"\\nTraining in eval mode with weight updates...\")\n",
    "train_with_eval_mode_update(model_eval, x_tensor, y_tensor, optimizer_eval, criterion, epochs=300, eval_mode=True)"
   ]
  },
  {
   "cell_type": "code",
   "execution_count": null,
   "id": "d98eee60",
   "metadata": {},
   "outputs": [
    {
     "name": "stdout",
     "output_type": "stream",
     "text": [
      "Training in normal (train) mode...\n",
      "Epoch [0/300], Loss: 2.4224, Mode: Train\n",
      "Epoch [100/300], Loss: 0.0195, Mode: Train\n",
      "Epoch [200/300], Loss: 0.0170, Mode: Train\n",
      "\n",
      "Training in eval mode with weight updates...\n",
      "Epoch [0/300], Loss: 1.8483, Mode: Eval\n",
      "Epoch [100/300], Loss: 0.4139, Mode: Eval\n",
      "Epoch [200/300], Loss: 0.1168, Mode: Eval\n"
     ]
    }
   ],
   "source": [
    "# 把模型的 BN 层打开\n",
    "model_train = SimpleNet(bn=True)\n",
    "model_eval = SimpleNet(bn=True)\n",
    "# Ensuring the initial weights are the same for both models\n",
    "model_eval.load_state_dict(model_train.state_dict())\n",
    "\n",
    "criterion = nn.MSELoss()\n",
    "optimizer_train = optim.SGD(model_train.parameters(), lr=0.01)\n",
    "optimizer_eval = optim.SGD(model_eval.parameters(), lr=0.01)\n",
    "\n",
    "# Train the model in training mode\n",
    "print(\"Training in normal (train) mode...\")\n",
    "train_with_eval_mode_update(model_train, x_tensor, y_tensor, optimizer_train, criterion, epochs=300)\n",
    "\n",
    "# Train the model in evaluation mode with weight updates\n",
    "print(\"\\nTraining in eval mode with weight updates...\")\n",
    "train_with_eval_mode_update(model_eval, x_tensor, y_tensor, optimizer_eval, criterion, epochs=300, eval_mode=True)"
   ]
  },
  {
   "cell_type": "markdown",
   "id": "3172dea5",
   "metadata": {},
   "source": [
    "训练时（model.train()）\n",
    "使用当前 batch 的均值和方差进行标准化：\n",
    "并使用它们更新内部的 running mean 和 running var：\n",
    "running_mean = (1 - momentum) * running_mean + momentum * batch_mean\n",
    "\n",
    "推理时（model.eval()）\n",
    "使用 保存的 running mean 和 running var 进行归一化：\n",
    "不再使用当前 batch 的统计信息，也不再更新 running 状态。"
   ]
  }
 ],
 "metadata": {
  "kernelspec": {
   "display_name": "qwen",
   "language": "python",
   "name": "python3"
  },
  "language_info": {
   "codemirror_mode": {
    "name": "ipython",
    "version": 3
   },
   "file_extension": ".py",
   "mimetype": "text/x-python",
   "name": "python",
   "nbconvert_exporter": "python",
   "pygments_lexer": "ipython3",
   "version": "3.10.16"
  }
 },
 "nbformat": 4,
 "nbformat_minor": 5
}
