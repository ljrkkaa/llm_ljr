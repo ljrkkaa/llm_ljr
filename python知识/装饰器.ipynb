{
 "cells": [
  {
   "cell_type": "code",
   "execution_count": 2,
   "id": "3294b0bf",
   "metadata": {},
   "outputs": [
    {
     "name": "stdout",
     "output_type": "stream",
     "text": [
      "Myself ------------------------------------------------------------\n",
      "mySelfFunc\n",
      "staticmethod ------------------------------------------------------------\n",
      "staticFunc\n",
      "classmethod ------------------------------------------------------------\n",
      "classFunc\n",
      "property ------------------------------------------------------------\n",
      "2\n",
      "1\n"
     ]
    }
   ],
   "source": [
    "class Swift(object):\n",
    "    def __init__(self, width, height):\n",
    "        self.width = width\n",
    "        self.height = height\n",
    " \n",
    "    def mySelfFunc(self):\n",
    "        print(\"mySelfFunc\")\n",
    " \n",
    "    @staticmethod\n",
    "    def staticFunc():\n",
    "        print(\"staticFunc\")\n",
    " \n",
    "    @classmethod\n",
    "    def classFunc(cls):\n",
    "        print(\"classFunc\")\n",
    " \n",
    "    @property\n",
    "    def getWith(self):\n",
    "        return self.width\n",
    " \n",
    "    @property\n",
    "    def getHeight(self):\n",
    "        return self.height\n",
    " \n",
    "a = Swift(1, 2)\n",
    "print(\"Myself \" + \"-\"*60)\n",
    "a.mySelfFunc()\n",
    "print(\"staticmethod \" + \"-\"*60)\n",
    "Swift.staticFunc()\n",
    "print(\"classmethod \" + \"-\"*60)\n",
    "Swift.classFunc()\n",
    "print(\"property \" + \"-\"*60)\n",
    "print(a.getHeight)\n",
    "print(a.getWith)"
   ]
  },
  {
   "cell_type": "code",
   "execution_count": 5,
   "id": "0a9efc3b",
   "metadata": {},
   "outputs": [
    {
     "name": "stdout",
     "output_type": "stream",
     "text": [
      "CoinTrans(id='id01', symbol='BTC/USDT', price='71000.8', is_success=True)\n"
     ]
    }
   ],
   "source": [
    "from dataclasses import dataclass\n",
    "\n",
    "@dataclass\n",
    "class CoinTrans:\n",
    "    id: str = \"id01\"\n",
    "    symbol: str = \"BTC/USDT\"\n",
    "    price: float = \"71000.8\"\n",
    "    is_success: bool = True\n",
    "\n",
    "\n",
    "coin_trans = CoinTrans()\n",
    "print(coin_trans)\n"
   ]
  },
  {
   "cell_type": "code",
   "execution_count": 11,
   "id": "b246ea87",
   "metadata": {},
   "outputs": [
    {
     "name": "stdout",
     "output_type": "stream",
     "text": [
      "CoinTrans(id='id01', symbol='BTC/USDT', price='71000.8')\n"
     ]
    }
   ],
   "source": [
    "from dataclasses import dataclass, field\n",
    "@dataclass\n",
    "class CoinTrans:\n",
    "    id: str = \"id01\"\n",
    "    symbol: str = \"BTC/USDT\"\n",
    "    price: float = \"71000.8\"\n",
    "    is_success: bool = field(default=True, repr=False)\n",
    "\n",
    "coin_trans = CoinTrans()\n",
    "print(coin_trans)"
   ]
  },
  {
   "cell_type": "code",
   "execution_count": null,
   "id": "b2e7d477",
   "metadata": {},
   "outputs": [
    {
     "name": "stdout",
     "output_type": "stream",
     "text": [
      "('id01', 'BTC/USDT', '71000.8', True)\n",
      "{'id': 'id01', 'symbol': 'BTC/USDT', 'price': '71000.8', 'is_success': True}\n"
     ]
    }
   ],
   "source": [
    "from dataclasses import dataclass, field, astuple, asdict\n",
    "\n",
    "coin_trans = CoinTrans()\n",
    "print(astuple(coin_trans))\n",
    "print(asdict(coin_trans))\n"
   ]
  }
 ],
 "metadata": {
  "kernelspec": {
   "display_name": "llm",
   "language": "python",
   "name": "python3"
  },
  "language_info": {
   "codemirror_mode": {
    "name": "ipython",
    "version": 3
   },
   "file_extension": ".py",
   "mimetype": "text/x-python",
   "name": "python",
   "nbconvert_exporter": "python",
   "pygments_lexer": "ipython3",
   "version": "3.11.13"
  }
 },
 "nbformat": 4,
 "nbformat_minor": 5
}
