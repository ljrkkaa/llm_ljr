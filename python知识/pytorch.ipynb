{
 "cells": [
  {
   "cell_type": "code",
   "execution_count": 7,
   "id": "299eb372",
   "metadata": {},
   "outputs": [
    {
     "name": "stdout",
     "output_type": "stream",
     "text": [
      "tensor([[0., 0., 0.],\n",
      "        [0., 0., 0.]])\n",
      "tensor([[0.9573, 0.2852, 0.6825, 0.2432],\n",
      "        [0.0230, 0.9166, 0.0353, 0.0446],\n",
      "        [0.3484, 0.4162, 0.4160, 0.5381]])\n",
      "tensor([[ 2.0802,  0.0605, -2.5386],\n",
      "        [ 0.5451,  0.7102,  0.6108]])\n",
      "tensor([[0, 0, 0, 0],\n",
      "        [0, 0, 0, 0],\n",
      "        [0, 0, 0, 0]])\n",
      "tensor([[0., 0., 0., 0.],\n",
      "        [0., 0., 0., 0.],\n",
      "        [0., 0., 0., 0.]], dtype=torch.float64)\n",
      "tensor([1, 3, 5, 7, 9])\n"
     ]
    }
   ],
   "source": [
    "import torch\n",
    "\n",
    "print(torch.empty(2,3))\n",
    "print(torch.rand(3,4))\n",
    "print(torch.randn(2, 3))\n",
    "print(torch.zeros(3,4,dtype=torch.long))\n",
    "print(torch.zeros(3,4,dtype=torch.double))\n",
    "print(torch.arange(1,10,2))"
   ]
  },
  {
   "cell_type": "code",
   "execution_count": 11,
   "id": "39ea3d20",
   "metadata": {},
   "outputs": [
    {
     "name": "stdout",
     "output_type": "stream",
     "text": [
      "tensor([[1.0000, 3.8000, 2.1000],\n",
      "        [8.6000, 4.0000, 2.4000]])\n",
      "tensor([[0.5622, 0.6201, 0.7591],\n",
      "        [0.0494, 0.3269, 0.8518]], device='cuda:0')\n"
     ]
    },
    {
     "data": {
      "text/plain": [
       "tensor([[0.7852, 0.5192, 0.2731],\n",
       "        [0.8963, 0.2708, 0.4607]], device='cuda:0')"
      ]
     },
     "execution_count": 11,
     "metadata": {},
     "output_type": "execute_result"
    }
   ],
   "source": [
    "array = [[1.0, 3.8, 2.1], [8.6, 4.0, 2.4]]\n",
    "print(torch.tensor(array))\n",
    "\n",
    "print(torch.rand(2, 3).cuda())\n",
    "torch.rand(2, 3, device=\"cuda\")\n"
   ]
  },
  {
   "cell_type": "code",
   "execution_count": null,
   "id": "8bbde3ca",
   "metadata": {},
   "outputs": [
    {
     "name": "stdout",
     "output_type": "stream",
     "text": [
      "tensor([2.5000, 3.5000, 4.5000], dtype=torch.float64)\n",
      "tensor([2., 5.], dtype=torch.float64)\n"
     ]
    }
   ],
   "source": [
    "x = torch.tensor([[1, 2, 3], [4, 5, 6]], dtype=torch.double)\n",
    "\n",
    "print(x.mean(dim=0))\n",
    "print(x.mean(dim=1))"
   ]
  },
  {
   "cell_type": "code",
   "execution_count": 14,
   "id": "fc375c55",
   "metadata": {},
   "outputs": [
    {
     "data": {
      "text/plain": [
       "tensor([[ 1.,  2.,  3.,  7.,  8.,  9.],\n",
       "        [ 4.,  5.,  6., 10., 11., 12.]], dtype=torch.float64)"
      ]
     },
     "execution_count": 14,
     "metadata": {},
     "output_type": "execute_result"
    }
   ],
   "source": [
    "x = torch.tensor([[1, 2, 3], [ 4,  5,  6]], dtype=torch.double)\n",
    "y = torch.tensor([[7, 8, 9], [10, 11, 12]], dtype=torch.double)\n",
    "\n",
    "torch.cat((x,y),dim=1)"
   ]
  },
  {
   "cell_type": "code",
   "execution_count": 15,
   "id": "43f1495e",
   "metadata": {},
   "outputs": [
    {
     "data": {
      "text/plain": [
       "tensor([[1, 4],\n",
       "        [2, 5],\n",
       "        [3, 6]])"
      ]
     },
     "execution_count": 15,
     "metadata": {},
     "output_type": "execute_result"
    }
   ],
   "source": [
    "x = torch.tensor([[1, 2, 3], [4, 5, 6]])\n",
    "x.transpose(0,1)"
   ]
  },
  {
   "cell_type": "code",
   "execution_count": 16,
   "id": "8e3e3e91",
   "metadata": {},
   "outputs": [
    {
     "name": "stdout",
     "output_type": "stream",
     "text": [
      "torch.Size([3, 1, 2])\n"
     ]
    }
   ],
   "source": [
    "x = torch.tensor([[[1, 2, 3], [4, 5, 6]]])\n",
    "\n",
    "x = x.permute(2,0,1)\n",
    "print(x.shape)"
   ]
  },
  {
   "cell_type": "code",
   "execution_count": 18,
   "id": "d4d0c9ef",
   "metadata": {},
   "outputs": [
    {
     "name": "stdout",
     "output_type": "stream",
     "text": [
      "tensor([[1, 2, 3, 4]]) torch.Size([1, 4])\n"
     ]
    }
   ],
   "source": [
    "a = torch.tensor([1, 2, 3, 4])\n",
    "\n",
    "b = a.unsqueeze(dim=0)\n",
    "print(b,b.shape)"
   ]
  }
 ],
 "metadata": {
  "kernelspec": {
   "display_name": "llm",
   "language": "python",
   "name": "python3"
  },
  "language_info": {
   "codemirror_mode": {
    "name": "ipython",
    "version": 3
   },
   "file_extension": ".py",
   "mimetype": "text/x-python",
   "name": "python",
   "nbconvert_exporter": "python",
   "pygments_lexer": "ipython3",
   "version": "3.11.13"
  }
 },
 "nbformat": 4,
 "nbformat_minor": 5
}
