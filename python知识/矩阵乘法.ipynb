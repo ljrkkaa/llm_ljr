{
 "cells": [
  {
   "cell_type": "markdown",
   "id": "343f2397",
   "metadata": {},
   "source": [
    "torch.matmul 适合所有的 支持广播机制\n",
    "\n",
    "torch.dot 算两个一维张量（即向量）之间的点乘（内积）的函数，不支持广播机制\n",
    "torch.mm 只支持两个二维矩阵相乘 不支持广播机制\n",
    "torch.bmm 只支持两个三维矩阵相乘 不支持广播机制"
   ]
  },
  {
   "cell_type": "code",
   "execution_count": 3,
   "id": "d4f2884f",
   "metadata": {},
   "outputs": [
    {
     "name": "stdout",
     "output_type": "stream",
     "text": [
      "tensor(32)\n",
      "tensor(32)\n"
     ]
    }
   ],
   "source": [
    "import torch\n",
    "import torch.nn as nn\n",
    "import torch.nn.functional as F\n",
    "\n",
    "a = torch.tensor([1, 2, 3])\n",
    "b = torch.tensor([4, 5, 6])\n",
    "result = torch.dot(a, b)\n",
    "print(result)\n",
    "\n",
    "result2 = a @ b\n",
    "print(result2)"
   ]
  },
  {
   "cell_type": "code",
   "execution_count": 4,
   "id": "2a0aa66b",
   "metadata": {},
   "outputs": [
    {
     "name": "stdout",
     "output_type": "stream",
     "text": [
      "tensor([[ 3.3295,  0.0638, -0.2572, -3.0442],\n",
      "        [-0.8862,  0.3887,  0.4263,  1.6469]])\n",
      "tensor([[ 3.3295,  0.0638, -0.2572, -3.0442],\n",
      "        [-0.8862,  0.3887,  0.4263,  1.6469]])\n"
     ]
    }
   ],
   "source": [
    "x = torch.randn(2, 3)\n",
    "y = torch.randn(3, 4)\n",
    "result3 = torch.matmul(x, y)\n",
    "print(result3)\n",
    "\n",
    "result4 = torch.mm(x, y)\n",
    "print(result4)"
   ]
  },
  {
   "cell_type": "code",
   "execution_count": 5,
   "id": "ba9e68d9",
   "metadata": {},
   "outputs": [
    {
     "name": "stdout",
     "output_type": "stream",
     "text": [
      "tensor([[[ 0.6533,  1.3021,  0.9740],\n",
      "         [ 0.0332,  0.3360, -0.7595],\n",
      "         [-0.0926, -0.0469, -0.9199]],\n",
      "\n",
      "        [[-0.6666,  2.7202, -0.5066],\n",
      "         [-2.9779,  0.9197, -1.5100],\n",
      "         [-0.5301,  2.3702,  0.4070]]])\n",
      "tensor([[[ 0.6533,  1.3021,  0.9740],\n",
      "         [ 0.0332,  0.3360, -0.7595],\n",
      "         [-0.0926, -0.0469, -0.9199]],\n",
      "\n",
      "        [[-0.6666,  2.7202, -0.5066],\n",
      "         [-2.9779,  0.9197, -1.5100],\n",
      "         [-0.5301,  2.3702,  0.4070]]])\n"
     ]
    }
   ],
   "source": [
    "x = torch.randn(2, 3, 4)\n",
    "y = torch.randn(2, 4, 3)\n",
    "result5 = torch.matmul(x, y)\n",
    "print(result5)\n",
    "result6 = torch.bmm(x, y)\n",
    "print(result6)"
   ]
  },
  {
   "cell_type": "code",
   "execution_count": 8,
   "id": "969ab196",
   "metadata": {},
   "outputs": [
    {
     "name": "stdout",
     "output_type": "stream",
     "text": [
      "tensor([ 4, 10, 18])\n",
      "tensor([ 4, 10, 18])\n",
      "tensor([[ 10,  40,  90],\n",
      "        [ 40, 100, 180]])\n",
      "tensor([10, 20, 30])\n"
     ]
    }
   ],
   "source": [
    "import torch\n",
    "\n",
    "# 示例 1: 相同形状的张量的元素级乘法\n",
    "A = torch.tensor([1, 2, 3])\n",
    "B = torch.tensor([4, 5, 6])\n",
    "result = torch.mul(A, B)\n",
    "print(result)  # 输出: tensor([ 4, 10, 18])\n",
    "\n",
    "print(A * B)  # 也可以使用 * 运算符进行元素级乘法\n",
    "\n",
    "# 示例 2: 不同形状的张量进行广播后的元素级乘法\n",
    "A = torch.tensor([[1, 2, 3], [4, 5, 6]])\n",
    "B = torch.tensor([10, 20, 30])\n",
    "result = torch.mul(A, B)\n",
    "print(result)  # 输出: tensor([[10, 40, 90], [40, 100, 180]])\n",
    "\n",
    "# 示例 3: 通过标量进行元素级乘法\n",
    "A = torch.tensor([1, 2, 3])\n",
    "result = torch.mul(A, 10)\n",
    "print(result)  # 输出: tensor([10, 20, 30])"
   ]
  },
  {
   "cell_type": "code",
   "execution_count": null,
   "id": "01e89551",
   "metadata": {},
   "outputs": [],
   "source": []
  }
 ],
 "metadata": {
  "kernelspec": {
   "display_name": "qwen",
   "language": "python",
   "name": "python3"
  },
  "language_info": {
   "codemirror_mode": {
    "name": "ipython",
    "version": 3
   },
   "file_extension": ".py",
   "mimetype": "text/x-python",
   "name": "python",
   "nbconvert_exporter": "python",
   "pygments_lexer": "ipython3",
   "version": "3.10.16"
  }
 },
 "nbformat": 4,
 "nbformat_minor": 5
}
