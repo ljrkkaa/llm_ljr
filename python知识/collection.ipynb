{
 "cells": [
  {
   "cell_type": "markdown",
   "id": "6a61fdb8",
   "metadata": {},
   "source": [
    "# collections ——— dict的key值存不存在乾我屁事"
   ]
  },
  {
   "cell_type": "markdown",
   "id": "da8ddf4a",
   "metadata": {},
   "source": [
    "在字典中查找某个值时，若key不存在时则会返回一个KeyError错误而不是一个默认值，这时候可以使用defaultdict函数。"
   ]
  },
  {
   "cell_type": "code",
   "execution_count": 1,
   "id": "e4df8c2c",
   "metadata": {},
   "outputs": [
    {
     "ename": "KeyError",
     "evalue": "1",
     "output_type": "error",
     "traceback": [
      "\u001b[31m---------------------------------------------------------------------------\u001b[39m",
      "\u001b[31mKeyError\u001b[39m                                  Traceback (most recent call last)",
      "\u001b[36mCell\u001b[39m\u001b[36m \u001b[39m\u001b[32mIn[1]\u001b[39m\u001b[32m, line 5\u001b[39m\n\u001b[32m      2\u001b[39m \u001b[38;5;28mdict\u001b[39m = {}\n\u001b[32m      4\u001b[39m \u001b[38;5;28;01mfor\u001b[39;00m i \u001b[38;5;129;01min\u001b[39;00m lst:\n\u001b[32m----> \u001b[39m\u001b[32m5\u001b[39m     \u001b[38;5;28;43mdict\u001b[39;49m\u001b[43m[\u001b[49m\u001b[43mi\u001b[49m\u001b[43m]\u001b[49m +=\u001b[32m1\u001b[39m;\n\u001b[32m      6\u001b[39m \u001b[38;5;28mprint\u001b[39m(\u001b[38;5;28mdict\u001b[39m)\n",
      "\u001b[31mKeyError\u001b[39m: 1"
     ]
    }
   ],
   "source": [
    "lst = [1,2,3,4,5,6,7,8,9,10]\n",
    "dict = {}\n",
    "\n",
    "for i in lst:\n",
    "    dict[i] +=1;\n",
    "print(dict)"
   ]
  },
  {
   "cell_type": "code",
   "execution_count": null,
   "id": "62e5a43d",
   "metadata": {},
   "outputs": [
    {
     "name": "stdout",
     "output_type": "stream",
     "text": [
      "{'A': 1, 'B': 1, 'C': 1, 'D': 1, 'e': 1}\n"
     ]
    }
   ],
   "source": [
    "lst = ['A', 'B', 'C', 'D', 'e']\n",
    "dic = {}\n",
    "\n",
    "for i in lst:\n",
    "    dic.setdefault(i, 0)\n",
    "    dic[i] += 1\n",
    "print(dic)"
   ]
  },
  {
   "cell_type": "code",
   "execution_count": 4,
   "id": "d59e7456",
   "metadata": {},
   "outputs": [
    {
     "name": "stdout",
     "output_type": "stream",
     "text": [
      "0\n",
      "set()\n",
      "\n",
      "[]\n",
      "666\n",
      "****************************************************************************************************\n",
      "defaultdict(<class 'int'>, {0: 0})\n",
      "defaultdict(<class 'set'>, {0: set()})\n",
      "defaultdict(<class 'str'>, {0: ''})\n",
      "defaultdict(<class 'list'>, {1: 666, 2: 888, 0: []})\n"
     ]
    }
   ],
   "source": [
    "from collections import defaultdict\n",
    "\n",
    "dict1 = defaultdict(int)\n",
    "dict2 = defaultdict(set)\n",
    "dict3 = defaultdict(str)\n",
    "dict4 = defaultdict(list)\n",
    "\n",
    "dict4[1] = 666\n",
    "dict4[2] = 888\n",
    "\n",
    "\n",
    "print(dict1[0])\n",
    "print(dict2[0])\n",
    "print(dict3[0])\n",
    "print(dict4[0])\n",
    "print(dict4[1])\n",
    "\n",
    "print(\"*\" * 100)\n",
    "print(dict1)\n",
    "print(dict2)\n",
    "print(dict3)\n",
    "print(dict4)\n"
   ]
  },
  {
   "cell_type": "markdown",
   "id": "420ff476",
   "metadata": {},
   "source": [
    "defaultdict是属于collections 模块下的一个工厂函数，用于构建字典对象，接收一个函数（可调用）对象为作为参数。参数返回的类型是什么，key对应value就是什么类型。"
   ]
  },
  {
   "cell_type": "code",
   "execution_count": 7,
   "id": "1a0d821c",
   "metadata": {},
   "outputs": [
    {
     "name": "stdout",
     "output_type": "stream",
     "text": [
      "defaultdict(<class 'list'>, {})\n",
      "defaultdict(<class 'list'>, {'A': ['1', '2', '3'], 'B': ['1', '2', '3']})\n",
      "<class 'collections.defaultdict'>\n",
      "A ['1', '2', '3'] <class 'str'> <class 'list'>\n",
      "B ['1', '2', '3'] <class 'str'> <class 'list'>\n"
     ]
    }
   ],
   "source": [
    "from collections import defaultdict\n",
    "\n",
    "lst = [(\"A\", \"1\"), (\"B\", \"1\"), (\"A\", \"2\"), (\"B\", \"2\"), (\"A\", \"3\"), (\"B\", \"3\")]\n",
    "dic = defaultdict(list)\n",
    "print(dic)\n",
    "\n",
    "for k, v in lst:\n",
    "    dic[k].append(v)\n",
    "print(dic)\n",
    "print(type(dic))\n",
    "\n",
    "for k, v in dic.items():\n",
    "    print(k, v, type(k),type(v))"
   ]
  }
 ],
 "metadata": {
  "kernelspec": {
   "display_name": "llm",
   "language": "python",
   "name": "python3"
  },
  "language_info": {
   "codemirror_mode": {
    "name": "ipython",
    "version": 3
   },
   "file_extension": ".py",
   "mimetype": "text/x-python",
   "name": "python",
   "nbconvert_exporter": "python",
   "pygments_lexer": "ipython3",
   "version": "3.11.13"
  }
 },
 "nbformat": 4,
 "nbformat_minor": 5
}
