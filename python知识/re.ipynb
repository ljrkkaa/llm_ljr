{
 "cells": [
  {
   "cell_type": "markdown",
   "id": "9ad443e8",
   "metadata": {},
   "source": [
    "re 模块使 Python 语言拥有全部的正则表达式功能。"
   ]
  },
  {
   "cell_type": "code",
   "execution_count": null,
   "id": "ce98a41c",
   "metadata": {},
   "outputs": [
    {
     "name": "stdout",
     "output_type": "stream",
     "text": [
      "<re.Match object; span=(0, 3), match='www'>\n",
      "(0, 3)\n",
      "None\n"
     ]
    }
   ],
   "source": [
    "import re\n",
    "\n",
    "# 从字符串的起始位置匹配一个模式，如果不是起始位置匹配成功的话，match()就返回none。\n",
    "print(re.match('www', 'www.runoob.com'))\n",
    "print(re.match('www', 'www.runoob.com').span())  # 在起始位置匹配\n",
    "print(re.match('com', 'www.runoob.com'))         # 不在起始位置匹配"
   ]
  },
  {
   "cell_type": "code",
   "execution_count": 9,
   "id": "ccaa266e",
   "metadata": {},
   "outputs": [
    {
     "name": "stdout",
     "output_type": "stream",
     "text": [
      "matchObj.group()   : Cats are smarter than dogs\n",
      "matchObj.group(1)  : Cats\n",
      "matchObj.group(2)  : smarter\n"
     ]
    }
   ],
   "source": [
    "import re\n",
    "\n",
    "line = \"Cats are smarter than dogs\"\n",
    "\n",
    "# 使用正则表达式匹配\n",
    "matchObj = re.match(r'(.*) are (.*?) .*', line, re.M | re.I)\n",
    "\n",
    "if matchObj:\n",
    "    print(\"matchObj.group()   :\", matchObj.group())    # 完整匹配\n",
    "    print(\"matchObj.group(1)  :\", matchObj.group(1))   # 第一个括号匹配\n",
    "    print(\"matchObj.group(2)  :\", matchObj.group(2))   # 第二个括号匹配\n",
    "else:\n",
    "    print(\"No match!!\")\n"
   ]
  },
  {
   "cell_type": "code",
   "execution_count": 4,
   "id": "2383f2d3",
   "metadata": {},
   "outputs": [
    {
     "name": "stdout",
     "output_type": "stream",
     "text": [
      "(0, 3)\n",
      "(11, 14)\n"
     ]
    }
   ],
   "source": [
    "import re\n",
    "print(re.search('www', 'www.runoob.com').span())  # 在起始位置匹配\n",
    "print(re.search('com', 'www.runoob.com').span())         # 不在起始位置匹配"
   ]
  },
  {
   "cell_type": "markdown",
   "id": "c7cf716d",
   "metadata": {},
   "source": [
    "re.compile 函数\n",
    "compile 函数用于编译正则表达式，生成一个正则表达式（ Pattern ）对象，可以给 match() 、 search() 以及 findall 等函数使用。"
   ]
  },
  {
   "cell_type": "code",
   "execution_count": 10,
   "id": "a0b4ddf5",
   "metadata": {},
   "outputs": [
    {
     "name": "stdout",
     "output_type": "stream",
     "text": [
      "None\n",
      "<re.Match object; span=(3, 5), match='12'>\n"
     ]
    }
   ],
   "source": [
    "import re\n",
    "pattern = re.compile(r'\\d+')                    # 用于匹配至少一个数字\n",
    "m = pattern.match('one12twothree34four')        # 查找头部，没有匹配\n",
    "print(m)\n",
    "m = pattern.match('one12twothree34four', 3, 10)  # 从索引3开始匹配，直到10停止\n",
    "print(m)"
   ]
  },
  {
   "cell_type": "code",
   "execution_count": null,
   "id": "e8289887",
   "metadata": {},
   "outputs": [
    {
     "name": "stdout",
     "output_type": "stream",
     "text": [
      "m.group(0): Hello World\n",
      "m.span(0): (0, 11)\n",
      "m.group(1): Hello\n",
      "m.span(1): (0, 5)\n",
      "m.group(2): World\n",
      "m.span(2): (6, 11)\n",
      "m.groups(): ('Hello', 'World')\n"
     ]
    },
    {
     "ename": "IndexError",
     "evalue": "no such group",
     "output_type": "error",
     "traceback": [
      "\u001b[31m---------------------------------------------------------------------------\u001b[39m",
      "\u001b[31mIndexError\u001b[39m                                Traceback (most recent call last)",
      "\u001b[36mCell\u001b[39m\u001b[36m \u001b[39m\u001b[32mIn[12]\u001b[39m\u001b[32m, line 24\u001b[39m\n\u001b[32m     21\u001b[39m \u001b[38;5;28;01melse\u001b[39;00m:\n\u001b[32m     22\u001b[39m     \u001b[38;5;28mprint\u001b[39m(\u001b[33m\"\u001b[39m\u001b[33mNo match!!\u001b[39m\u001b[33m\"\u001b[39m)\n\u001b[32m---> \u001b[39m\u001b[32m24\u001b[39m \u001b[43mm\u001b[49m\u001b[43m.\u001b[49m\u001b[43mgroup\u001b[49m\u001b[43m(\u001b[49m\u001b[32;43m3\u001b[39;49m\u001b[43m)\u001b[49m  \n",
      "\u001b[31mIndexError\u001b[39m: no such group"
     ]
    }
   ],
   "source": [
    "import re\n",
    "\n",
    "# 要匹配的字符串\n",
    "line = \"Hello World Wide Web\"\n",
    "\n",
    "# 编译正则表达式，忽略大小写\n",
    "pattern = re.compile(r'([a-z]+) ([a-z]+)', re.I)\n",
    "\n",
    "# 进行匹配（从字符串起始处匹配）\n",
    "m = pattern.match(line)\n",
    "\n",
    "# 检查是否匹配成功\n",
    "if m:\n",
    "    print(\"m.group(0):\", m.group(0))      # 完整匹配的字符串\n",
    "    print(\"m.span(0):\", m.span(0))        # 完整匹配的起止索引\n",
    "    print(\"m.group(1):\", m.group(1))      # 第一个分组（第一个单词）\n",
    "    print(\"m.span(1):\", m.span(1))        # 第一个分组的位置\n",
    "    print(\"m.group(2):\", m.group(2))      # 第二个分组（第二个单词）\n",
    "    print(\"m.span(2):\", m.span(2))        # 第二个分组的位置\n",
    "    print(\"m.groups():\", m.groups())      # 所有分组组成的元组\n",
    "else:\n",
    "    print(\"No match!!\")\n",
    "\n",
    "m.group(3)   # 只有两个小括号，没三个组"
   ]
  },
  {
   "cell_type": "markdown",
   "id": "b47d9016",
   "metadata": {},
   "source": [
    "findall\n",
    "在字符串中找到正则表达式所匹配的所有子串，并返回一个列表，如果有多个匹配模式，则返回元组列表，如果没有找到匹配的，则返回空列表。"
   ]
  },
  {
   "cell_type": "code",
   "execution_count": 13,
   "id": "159de1c9",
   "metadata": {},
   "outputs": [
    {
     "name": "stdout",
     "output_type": "stream",
     "text": [
      "['123', '456']\n",
      "['123', '456']\n",
      "['88', '12']\n"
     ]
    }
   ],
   "source": [
    "import re\n",
    " \n",
    "result1 = re.findall(r'\\d+','runoob 123 google 456')\n",
    " \n",
    "pattern = re.compile(r'\\d+')   # 查找数字\n",
    "result2 = pattern.findall('runoob 123 google 456')\n",
    "result3 = pattern.findall('run88oob123google456', 0, 10)\n",
    " \n",
    "print(result1)\n",
    "print(result2)\n",
    "print(result3)"
   ]
  }
 ],
 "metadata": {
  "kernelspec": {
   "display_name": "llm",
   "language": "python",
   "name": "python3"
  },
  "language_info": {
   "codemirror_mode": {
    "name": "ipython",
    "version": 3
   },
   "file_extension": ".py",
   "mimetype": "text/x-python",
   "name": "python",
   "nbconvert_exporter": "python",
   "pygments_lexer": "ipython3",
   "version": "3.11.13"
  }
 },
 "nbformat": 4,
 "nbformat_minor": 5
}
