{
 "cells": [
  {
   "cell_type": "markdown",
   "id": "7f14ef62",
   "metadata": {},
   "source": [
    "手写attention"
   ]
  },
  {
   "cell_type": "code",
   "execution_count": 6,
   "id": "84b413e7",
   "metadata": {},
   "outputs": [
    {
     "data": {
      "text/plain": [
       "tensor([[[ 0.2128, -0.2109],\n",
       "         [ 0.3900, -0.3293],\n",
       "         [ 0.3915, -0.3305],\n",
       "         [ 0.4655, -0.4188]],\n",
       "\n",
       "        [[ 0.4893, -0.3809],\n",
       "         [ 0.4892, -0.3807],\n",
       "         [ 0.4895, -0.3812],\n",
       "         [ 0.4888, -0.3800]],\n",
       "\n",
       "        [[ 0.3125, -0.2668],\n",
       "         [ 0.3125, -0.2668],\n",
       "         [ 0.3125, -0.2668],\n",
       "         [ 0.3125, -0.2668]]], grad_fn=<UnsafeViewBackward0>)"
      ]
     },
     "execution_count": 6,
     "metadata": {},
     "output_type": "execute_result"
    }
   ],
   "source": [
    "import torch\n",
    "import torch.nn as nn\n",
    "import math\n",
    "\n",
    "class Attention(nn.Module):\n",
    "    def __init__(self, hidden_dim, dropout_rate=0.1):\n",
    "        super().__init__()\n",
    "\n",
    "        self.hidden_dim = hidden_dim\n",
    "        self.query = nn.Linear(hidden_dim,hidden_dim)\n",
    "        self.key = nn.Linear(hidden_dim,hidden_dim)\n",
    "        self.value = nn.Linear(hidden_dim,hidden_dim)\n",
    "\n",
    "        self.atten_dropout = nn.Dropout(dropout_rate)\n",
    "\n",
    "    def forward(self, X, attention_mask=None):\n",
    "        # X (batch,seq,hidden)\n",
    "        Q = self.query(X)\n",
    "        K = self.key(X)\n",
    "        V = self.value(X)\n",
    "\n",
    "        attention_weight = torch.matmul(Q,K.transpose(-1,-2))/math.sqrt(self.hidden_dim)\n",
    "        # (batch,seq,seq)\n",
    "        if attention_mask is not None:\n",
    "            attention_weight = attention_weight.masked_fill(\n",
    "                attention_mask == 0,\n",
    "                float(\"-inf\")\n",
    "            )\n",
    "        attention_weight = torch.softmax(attention_weight,dim=-1)\n",
    "        attention_weight = self.atten_dropout(attention_weight)\n",
    "        # (bat,seq,hidden)\n",
    "        attention_output = attention_weight @ V\n",
    "\n",
    "        return attention_output\n",
    "\n",
    "X = torch.rand(3,4,2)\n",
    "attention_mask = torch.tensor([[1,1,1,0],\n",
    "                            [1,1,0,0],\n",
    "                            [1,0,0,0]])\n",
    "attention_mask = attention_mask.unsqueeze(dim=1).repeat(1,4,1)\n",
    "\n",
    "net = Attention(2)\n",
    "net(X, attention_mask)\n"
   ]
  }
 ],
 "metadata": {
  "kernelspec": {
   "display_name": "llm",
   "language": "python",
   "name": "python3"
  },
  "language_info": {
   "codemirror_mode": {
    "name": "ipython",
    "version": 3
   },
   "file_extension": ".py",
   "mimetype": "text/x-python",
   "name": "python",
   "nbconvert_exporter": "python",
   "pygments_lexer": "ipython3",
   "version": "3.11.13"
  }
 },
 "nbformat": 4,
 "nbformat_minor": 5
}
