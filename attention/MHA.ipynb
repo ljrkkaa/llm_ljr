{
 "cells": [
  {
   "cell_type": "code",
   "execution_count": 1,
   "id": "c39755c4",
   "metadata": {},
   "outputs": [
    {
     "data": {
      "text/plain": [
       "torch.Size([3, 2, 128])"
      ]
     },
     "execution_count": 1,
     "metadata": {},
     "output_type": "execute_result"
    }
   ],
   "source": [
    "import torch\n",
    "import torch.nn as nn\n",
    "import math\n",
    "\n",
    "class MHA(nn.Module):\n",
    "    def __init__(self, hidden_dim, nums_head) -> None:\n",
    "        super().__init__()\n",
    "        self.nums_head = nums_head\n",
    "\n",
    "        self.head_dim = hidden_dim // nums_head\n",
    "        self.hidden_dim = hidden_dim\n",
    "\n",
    "        self.q_proj = nn.Linear(hidden_dim, hidden_dim)\n",
    "        self.k_proj = nn.Linear(hidden_dim, hidden_dim)\n",
    "        self.v_proj = nn.Linear(hidden_dim, hidden_dim)\n",
    "\n",
    "        self.dropout = nn.Dropout(0.1)\n",
    "        self.o_proj = nn.Linear(hidden_dim, hidden_dim)\n",
    "\n",
    "    def forward(self, X, attention_mask = None):\n",
    "        #(b,s,h)\n",
    "        batch_size, seq_len,_ = X.size()\n",
    "\n",
    "        Q = self.q_proj(X)\n",
    "        K = self.k_proj(X)\n",
    "        V = self.v_proj(X)\n",
    "\n",
    "        # (b,nums_head, s, h)\n",
    "        q_state = Q.view(batch_size,seq_len,self.nums_head,self.head_dim).transpose(1,2)\n",
    "        k_state = K.view(batch_size,seq_len,self.nums_head,self.head_dim).transpose(1,2)\n",
    "        v_state = V.view(batch_size,seq_len,self.nums_head,self.head_dim).transpose(1,2)\n",
    "        \n",
    "        # (b,nums_head, s, s)\n",
    "        attention_weight = (q_state @ k_state.transpose(-1,-2)/math.sqrt(self.head_dim))\n",
    "        if attention_mask is not None:\n",
    "            attention_weight = attention_weight.masked_fill(attention_mask==0, float(\"-inf\"))\n",
    "\n",
    "        attention_weight  = self.dropout(torch.softmax(attention_weight, dim=-1))\n",
    "\n",
    "        output = attention_weight @ v_state\n",
    "        output = output.transpose(1,2).contiguous().view(batch_size,seq_len,-1)\n",
    "        output = self.o_proj(output)\n",
    "        return output\n",
    "\n",
    "\n",
    "\n",
    "attention_mask = (\n",
    "    torch.tensor(\n",
    "        [\n",
    "            [0, 1],\n",
    "            [0, 0],\n",
    "            [1, 0],\n",
    "        ]\n",
    "    )\n",
    "    .unsqueeze(1)\n",
    "    .unsqueeze(2)\n",
    "    .expand(3, 8, 2, 2)\n",
    ")\n",
    "\n",
    "x = torch.rand(3, 2, 128)\n",
    "net = MHA(128, 8)\n",
    "net(x, attention_mask).shape"
   ]
  },
  {
   "cell_type": "markdown",
   "id": "f879dc12",
   "metadata": {},
   "source": [
    "https://blog.csdn.net/qq_40671063/article/details/130285398\n",
    "\n",
    "https://docs.pytorch.org/docs/stable/generated/torch.nn.MultiheadAttention.html"
   ]
  },
  {
   "cell_type": "markdown",
   "id": "3a020641",
   "metadata": {},
   "source": [
    "class\n",
    "torch.nn.MultiheadAttention(embed_dim, num_heads, dropout=0.0, bias=True, \n",
    "add_bias_kv=False, add_zero_attn=False, kdim=None, vdim=None, batch_first=False, \n",
    "device=None, dtype=None)\n",
    "\n",
    "forward(query, key, value, key_padding_mask=None, need_weights=True, \n",
    "attn_mask=None, average_attn_weights=True, is_causal=False)\n",
    "\n",
    "query (Tensor) – 查询嵌入形状(L，Eq)用于非批处理输入，(L，N，Eq)用于batchfirst= False 或(N，L，Eq)用于batchfirst = True，其中 L是目标序列长度，N 是批处理大小，Eq 是嵌入查询的嵌入维度 embed _ dim。将查询与键-值对进行比较以生成输出。\n",
    "\n",
    "key (Tensor)- 非批量输入的形状(S，Ek)的key嵌入，(S，N，Ek)的键嵌入，batchfirst = False 或(N，S，Ek)的键嵌入，batchfirst = True，其中 S 是源序列长度，N 是批量大小，Ek 是key嵌入维度 kdim。\n",
    "\n",
    "value (Tensor) – 非批处理输入的形状 (S,Ev) 的value嵌入，(S,N,Ev) 当 batch_first=False 或 (N,S,Ev)当 batch_first=True 时，其中 S 是源序列长度，N是批量大小，Ev 是value嵌入维度 vdim。\n",
    "\n",
    "average_attn_weights (bool) – 如果为真，则表示返回的 attn_weights 应该在头部之间进行平均。否则，每个头单独提供 attn_weights。请注意，此标志仅在 need_weights=True 时有效。默认值：True（即头部的平均）"
   ]
  },
  {
   "cell_type": "code",
   "execution_count": null,
   "id": "1bdbcaf3",
   "metadata": {},
   "outputs": [
    {
     "name": "stdout",
     "output_type": "stream",
     "text": [
      "输出形状: torch.Size([2, 5, 16])\n",
      "注意力权重形状: torch.Size([2, 5, 5])\n"
     ]
    }
   ],
   "source": [
    "import torch\n",
    "import torch.nn as nn\n",
    "\n",
    "embed_dim = 16   # 每个 token 的特征维度\n",
    "num_heads = 4    # 注意力头数\n",
    "\n",
    "mha = nn.MultiheadAttention(embed_dim=embed_dim, num_heads=num_heads, batch_first=True)\n",
    "\n",
    "batch_size = 2\n",
    "seq_len = 5\n",
    "x = torch.rand(batch_size, seq_len, embed_dim)  # (B, T, C)\n",
    "\n",
    "# 自注意力：query, key, value 全部用 x\n",
    "attn_output, attn_weights = mha(x, x, x)\n",
    "print(\"输出形状:\", attn_output.shape)  # (B, T, C)\n",
    "print(\"注意力权重形状:\", attn_weights.shape)  # (B, num_heads, T, T) 但是默认是 average_attn_weights=True，所以只返回平均权重： (B, T, S)"
   ]
  },
  {
   "cell_type": "code",
   "execution_count": 3,
   "id": "a8d77ac7",
   "metadata": {},
   "outputs": [
    {
     "name": "stdout",
     "output_type": "stream",
     "text": [
      "Cross attention output: torch.Size([2, 3, 32])\n",
      "Cross attention weights: torch.Size([2, 3, 6])\n"
     ]
    }
   ],
   "source": [
    "import torch\n",
    "import torch.nn as nn\n",
    "\n",
    "embed_dim = 32\n",
    "num_heads = 4\n",
    "\n",
    "cross_attn = nn.MultiheadAttention(embed_dim, num_heads, batch_first=True)\n",
    "\n",
    "# encoder output (key/value)\n",
    "encoder_out = torch.rand(2, 6, embed_dim)     # (B=2, S=6, C=32)\n",
    "\n",
    "# decoder input (query)\n",
    "decoder_in = torch.rand(2, 3, embed_dim)      # (B=2, T=3, C=32)\n",
    "\n",
    "# forward cross attention\n",
    "output, attn_weights = cross_attn(\n",
    "    query=decoder_in,\n",
    "    key=encoder_out,\n",
    "    value=encoder_out\n",
    ")\n",
    "\n",
    "print(\"Cross attention output:\", output.shape)       # (2, 3, 32)\n",
    "print(\"Cross attention weights:\", attn_weights.shape)  # (2, 3, 6)\n"
   ]
  }
 ],
 "metadata": {
  "kernelspec": {
   "display_name": "qwen",
   "language": "python",
   "name": "python3"
  },
  "language_info": {
   "codemirror_mode": {
    "name": "ipython",
    "version": 3
   },
   "file_extension": ".py",
   "mimetype": "text/x-python",
   "name": "python",
   "nbconvert_exporter": "python",
   "pygments_lexer": "ipython3",
   "version": "3.10.16"
  }
 },
 "nbformat": 4,
 "nbformat_minor": 5
}
