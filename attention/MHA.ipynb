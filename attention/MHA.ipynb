{
 "cells": [
  {
   "cell_type": "code",
   "execution_count": null,
   "id": "c39755c4",
   "metadata": {},
   "outputs": [
    {
     "data": {
      "text/plain": [
       "torch.Size([3, 2, 128])"
      ]
     },
     "execution_count": 5,
     "metadata": {},
     "output_type": "execute_result"
    }
   ],
   "source": [
    "import torch\n",
    "import torch.nn as nn\n",
    "import math\n",
    "\n",
    "class MHA(nn.Module):\n",
    "    def __init__(self, hidden_dim, nums_head) -> None:\n",
    "        super().__init__()\n",
    "        self.nums_head = nums_head\n",
    "\n",
    "        self.head_dim = hidden_dim // nums_head\n",
    "        self.hidden_dim = hidden_dim\n",
    "\n",
    "        self.q_proj = nn.Linear(hidden_dim, hidden_dim)\n",
    "        self.k_proj = nn.Linear(hidden_dim, hidden_dim)\n",
    "        self.v_proj = nn.Linear(hidden_dim, hidden_dim)\n",
    "\n",
    "        self.dropout = nn.Dropout(0.1)\n",
    "        self.o_proj = nn.Linear(hidden_dim, hidden_dim)\n",
    "\n",
    "    def forward(self, X, attention_mask = None):\n",
    "        #(b,s,h)\n",
    "        batch_size, seq_len,_ = X.size()\n",
    "\n",
    "        Q = self.q_proj(X)\n",
    "        K = self.k_proj(X)\n",
    "        V = self.v_proj(X)\n",
    "\n",
    "        # (b,nums_head, s, h)\n",
    "        q_state = Q.view(batch_size,seq_len,self.nums_head,self.head_dim).transpose(1,2)\n",
    "        k_state = K.view(batch_size,seq_len,self.nums_head,self.head_dim).transpose(1,2)\n",
    "        v_state = V.view(batch_size,seq_len,self.nums_head,self.head_dim).transpose(1,2)\n",
    "        \n",
    "        # (b,nums_head, s, s)\n",
    "        attention_weight = (q_state @ k_state.transpose(-1,-2)/math.sqrt(self.head_dim))\n",
    "        if attention_mask is not None:\n",
    "            attention_weight = attention_weight.masked_fill(attention_mask==0, float(\"-inf\"))\n",
    "\n",
    "        attention_weight  = self.dropout(torch.softmax(attention_weight, dim=-1))\n",
    "\n",
    "        output = attention_weight @ v_state\n",
    "        output = output.transpose(1,2).contiguous().view(batch_size,seq_len,-1)\n",
    "        output = self.o_proj(output)\n",
    "        return output\n",
    "\n",
    "\n",
    "\n",
    "attention_mask = (\n",
    "    torch.tensor(\n",
    "        [\n",
    "            [0, 1],\n",
    "            [0, 0],\n",
    "            [1, 0],\n",
    "        ]\n",
    "    )\n",
    "    .unsqueeze(1)\n",
    "    .unsqueeze(2)\n",
    "    .expand(3, 8, 2, 2)\n",
    ")\n",
    "\n",
    "x = torch.rand(3, 2, 128)\n",
    "net = MHA(128, 8)\n",
    "net(x, attention_mask).shape"
   ]
  }
 ],
 "metadata": {
  "kernelspec": {
   "display_name": "llm",
   "language": "python",
   "name": "python3"
  },
  "language_info": {
   "codemirror_mode": {
    "name": "ipython",
    "version": 3
   },
   "file_extension": ".py",
   "mimetype": "text/x-python",
   "name": "python",
   "nbconvert_exporter": "python",
   "pygments_lexer": "ipython3",
   "version": "3.11.13"
  }
 },
 "nbformat": 4,
 "nbformat_minor": 5
}
